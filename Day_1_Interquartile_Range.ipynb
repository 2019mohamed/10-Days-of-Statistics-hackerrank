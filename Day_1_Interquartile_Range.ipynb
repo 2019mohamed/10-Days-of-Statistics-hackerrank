{
  "nbformat": 4,
  "nbformat_minor": 0,
  "metadata": {
    "colab": {
      "name": "Day 1: Interquartile Range.ipynb",
      "provenance": [],
      "authorship_tag": "ABX9TyO8GkvHn7NzNPnQ1L5yVC1v",
      "include_colab_link": true
    },
    "kernelspec": {
      "name": "python3",
      "display_name": "Python 3"
    },
    "language_info": {
      "name": "python"
    }
  },
  "cells": [
    {
      "cell_type": "markdown",
      "metadata": {
        "id": "view-in-github",
        "colab_type": "text"
      },
      "source": [
        "<a href=\"https://colab.research.google.com/github/2019mohamed/10-Days-of-Statistics-hackerrank/blob/main/Day_1_Interquartile_Range.ipynb\" target=\"_parent\"><img src=\"https://colab.research.google.com/assets/colab-badge.svg\" alt=\"Open In Colab\"/></a>"
      ]
    },
    {
      "cell_type": "code",
      "metadata": {
        "colab": {
          "base_uri": "https://localhost:8080/"
        },
        "id": "hgOQTnxjx-uH",
        "outputId": "530c02aa-aca7-431e-9d99-e976a9a28b9f"
      },
      "source": [
        "#!/bin/python3\n",
        "\n",
        "import math\n",
        "import os\n",
        "import random\n",
        "import re\n",
        "import sys\n",
        "import statistics as st\n",
        "\n",
        "\n",
        "#\n",
        "# Complete the 'interQuartile' function below.\n",
        "#\n",
        "# The function accepts following parameters:\n",
        "#  1. INTEGER_ARRAY values\n",
        "#  2. INTEGER_ARRAY freqs\n",
        "#\n",
        "def Median (l):\n",
        "    n = len(l)\n",
        "    if n % 2 == 0:\n",
        "        median = (l[(n//2) -1] + l[n//2]) / 2\n",
        "    else:\n",
        "        median = l[n//2]\n",
        "    \n",
        "    return median\n",
        "\n",
        "def quartiles(arr):\n",
        "    arr = sorted(arr)\n",
        "    n = len(arr)\n",
        "    q1,q2,q3 = 0,0,0\n",
        "    \n",
        "    q2 = Median(arr)\n",
        "    \n",
        "    if n %2 == 0:\n",
        "        arr1 = arr[:(n//2)]\n",
        "        q1 = Median(arr1)\n",
        "        arr2 = arr[(n//2):]\n",
        "        q3 =Median(arr2)\n",
        "    else:\n",
        "        arr1 = arr[:(n//2)]\n",
        "        q1 = Median(arr1)\n",
        "        arr2 = arr[(n//2)+1:]\n",
        "        q3 =Median(arr2)\n",
        "    \n",
        "    return q1, q3\n",
        "\n",
        "def interQuartile(values, freqs):\n",
        "    # Print your answer to 1 decimal place within this function\n",
        "    L = []\n",
        "    for x ,f in zip(values , freqs):\n",
        "        L += [x] * f\n",
        "\n",
        "    q1 , q3 = quartiles(L)\n",
        "    print(round(float(q3 - q1) , 1))\n",
        "            \n",
        "    \n",
        "\n",
        "if __name__ == '__main__':\n",
        "    n = int(input().strip())\n",
        "\n",
        "    val = list(map(int, input().rstrip().split()))\n",
        "\n",
        "    freq = list(map(int, input().rstrip().split()))\n",
        "\n",
        "    interQuartile(val, freq)\n"
      ],
      "execution_count": 1,
      "outputs": [
        {
          "output_type": "stream",
          "text": [
            "6\n",
            "6 12 8 10 20 16\n",
            "5 4 3 2 1 5\n",
            "9.0\n"
          ],
          "name": "stdout"
        }
      ]
    }
  ]
}