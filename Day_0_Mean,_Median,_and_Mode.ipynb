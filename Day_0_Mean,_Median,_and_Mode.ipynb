{
  "nbformat": 4,
  "nbformat_minor": 0,
  "metadata": {
    "colab": {
      "name": "Day 0: Mean, Median, and Mode.ipynb",
      "provenance": [],
      "authorship_tag": "ABX9TyOQEb7pj29GbBvKmr+yPNtD",
      "include_colab_link": true
    },
    "kernelspec": {
      "name": "python3",
      "display_name": "Python 3"
    },
    "language_info": {
      "name": "python"
    }
  },
  "cells": [
    {
      "cell_type": "markdown",
      "metadata": {
        "id": "view-in-github",
        "colab_type": "text"
      },
      "source": [
        "<a href=\"https://colab.research.google.com/github/2019mohamed/10-Days-of-Statistics-hackerrank/blob/main/Day_0_Mean%2C_Median%2C_and_Mode.ipynb\" target=\"_parent\"><img src=\"https://colab.research.google.com/assets/colab-badge.svg\" alt=\"Open In Colab\"/></a>"
      ]
    },
    {
      "cell_type": "code",
      "metadata": {
        "id": "jbqsHVvZ6Zh5",
        "colab": {
          "base_uri": "https://localhost:8080/"
        },
        "outputId": "4bb8ebf8-22e4-400e-b3f9-be17e85d4896"
      },
      "source": [
        "# Enter your code here. Read input from STDIN. Print output to STDOUT\n",
        "import math\n",
        "n = int(input())\n",
        "l = input().split()\n",
        "l = [int(x) for x in l]\n",
        "mean = 0\n",
        "mean = sum(l) /  n\n",
        "print(mean)\n",
        "\n",
        "median = 0\n",
        "l = sorted(l)\n",
        "if n % 2 == 0:\n",
        "    median = (l[(n//2) -1] + l[n//2]) / 2\n",
        "else:\n",
        "    median = l[n//2]\n",
        "\n",
        "\n",
        "print(median)\n",
        "freq = {}\n",
        "for x in l:\n",
        "    if x in freq:\n",
        "        freq[x] +=1\n",
        "    else:\n",
        "        freq[x] = 1\n",
        "def compare (o):\n",
        "    return -o[1], o[0]\n",
        "freq = sorted(freq.items() , key = compare)\n",
        "mode = freq[0][0]\n",
        "print(mode)\n"
      ],
      "execution_count": 2,
      "outputs": [
        {
          "output_type": "stream",
          "text": [
            "10\n",
            "64630 11735 14216 99233 14470 4978 73429 38120 51135 67060\n",
            "43900.6\n",
            "44627.5\n",
            "4978\n"
          ],
          "name": "stdout"
        }
      ]
    }
  ]
}