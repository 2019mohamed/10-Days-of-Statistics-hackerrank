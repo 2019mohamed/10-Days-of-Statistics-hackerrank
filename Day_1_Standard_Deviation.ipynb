{
  "nbformat": 4,
  "nbformat_minor": 0,
  "metadata": {
    "colab": {
      "name": "Day 1: Standard Deviation.ipynb",
      "provenance": [],
      "authorship_tag": "ABX9TyN3Zn0QZIHJyP+O/mQFv5id",
      "include_colab_link": true
    },
    "kernelspec": {
      "name": "python3",
      "display_name": "Python 3"
    },
    "language_info": {
      "name": "python"
    }
  },
  "cells": [
    {
      "cell_type": "markdown",
      "metadata": {
        "id": "view-in-github",
        "colab_type": "text"
      },
      "source": [
        "<a href=\"https://colab.research.google.com/github/2019mohamed/10-Days-of-Statistics-hackerrank/blob/main/Day_1_Standard_Deviation.ipynb\" target=\"_parent\"><img src=\"https://colab.research.google.com/assets/colab-badge.svg\" alt=\"Open In Colab\"/></a>"
      ]
    },
    {
      "cell_type": "code",
      "metadata": {
        "colab": {
          "base_uri": "https://localhost:8080/"
        },
        "id": "3avUOLnLyhPa",
        "outputId": "a74d0338-df39-40a9-e6e5-e7a8af5032e6"
      },
      "source": [
        "#!/bin/python3\n",
        "\n",
        "import math\n",
        "import os\n",
        "import random\n",
        "import re\n",
        "import sys\n",
        "import math\n",
        "\n",
        "#\n",
        "# Complete the 'stdDev' function below.\n",
        "#\n",
        "# The function accepts INTEGER_ARRAY arr as parameter.\n",
        "#\n",
        "def Mean(l):\n",
        "    return sum(l) /  len(l)\n",
        "\n",
        "def stdDev(arr):\n",
        "    # Print your answers to 1 decimal place within this function\n",
        "    mean = Mean(arr)\n",
        "    Sum = 0\n",
        "    for x in arr :\n",
        "        Sum += (x - mean)**2\n",
        "    Sum /= len(arr)\n",
        "    print (round(math.sqrt(Sum),1))\n",
        "        \n",
        "    \n",
        "\n",
        "if __name__ == '__main__':\n",
        "    n = int(input().strip())\n",
        "\n",
        "    vals = list(map(int, input().rstrip().split()))\n",
        "\n",
        "    stdDev(vals)\n"
      ],
      "execution_count": 2,
      "outputs": [
        {
          "output_type": "stream",
          "text": [
            "5\n",
            "10 40 30 50 20\n",
            "14.1\n"
          ],
          "name": "stdout"
        }
      ]
    }
  ]
}