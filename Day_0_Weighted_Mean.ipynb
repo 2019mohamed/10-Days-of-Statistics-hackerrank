{
  "nbformat": 4,
  "nbformat_minor": 0,
  "metadata": {
    "colab": {
      "name": "Day 0: Weighted Mean.ipynb",
      "provenance": [],
      "authorship_tag": "ABX9TyMGj8K85ZK/wERSwxwS6B3d",
      "include_colab_link": true
    },
    "kernelspec": {
      "name": "python3",
      "display_name": "Python 3"
    },
    "language_info": {
      "name": "python"
    }
  },
  "cells": [
    {
      "cell_type": "markdown",
      "metadata": {
        "id": "view-in-github",
        "colab_type": "text"
      },
      "source": [
        "<a href=\"https://colab.research.google.com/github/2019mohamed/10-Days-of-Statistics-hackerrank/blob/main/Day_0_Weighted_Mean.ipynb\" target=\"_parent\"><img src=\"https://colab.research.google.com/assets/colab-badge.svg\" alt=\"Open In Colab\"/></a>"
      ]
    },
    {
      "cell_type": "code",
      "metadata": {
        "colab": {
          "base_uri": "https://localhost:8080/"
        },
        "id": "M0cp7DbqrlB1",
        "outputId": "e5374be5-472d-41fd-f8a6-d5313193e6c0"
      },
      "source": [
        "#!/bin/python3\n",
        "\n",
        "import math\n",
        "import os\n",
        "import random\n",
        "import re\n",
        "import sys\n",
        "\n",
        "#\n",
        "# Complete the 'weightedMean' function below.\n",
        "#\n",
        "# The function accepts following parameters:\n",
        "#  1. INTEGER_ARRAY X\n",
        "#  2. INTEGER_ARRAY W\n",
        "#\n",
        "\n",
        "def weightedMean(X, W):\n",
        "    # Write your code here\n",
        "    sum_w = sum(W)\n",
        "    ret = 0\n",
        "    for x,w in zip(X,W):\n",
        "        ret += x*w\n",
        "    ret /= sum_w\n",
        "    print(round(ret,1))\n",
        "        \n",
        "    \n",
        "\n",
        "if __name__ == '__main__':\n",
        "    n = int(input().strip())\n",
        "\n",
        "    vals = list(map(int, input().rstrip().split()))\n",
        "\n",
        "    weights = list(map(int, input().rstrip().split()))\n",
        "\n",
        "    weightedMean(vals, weights)\n",
        "    "
      ],
      "execution_count": 1,
      "outputs": [
        {
          "output_type": "stream",
          "text": [
            "5\n",
            "10 40 30 50 20\n",
            "1 2 3 4 5\n",
            "32.0\n"
          ],
          "name": "stdout"
        }
      ]
    }
  ]
}